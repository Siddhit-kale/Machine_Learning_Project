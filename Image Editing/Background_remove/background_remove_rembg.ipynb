{
  "cells": [
    {
      "cell_type": "code",
      "execution_count": 1,
      "metadata": {
        "colab": {
          "base_uri": "https://localhost:8080/"
        },
        "collapsed": true,
        "id": "2LqB_Ata8E0o",
        "outputId": "03edbc7d-cf6e-4174-bfa8-aacb77981624"
      },
      "outputs": [
        {
          "name": "stdout",
          "output_type": "stream",
          "text": [
            "Requirement already satisfied: rembg in c:\\users\\siddhit\\appdata\\local\\programs\\python\\python312\\lib\\site-packages (2.0.60)\n",
            "Requirement already satisfied: jsonschema in c:\\users\\siddhit\\appdata\\local\\programs\\python\\python312\\lib\\site-packages (from rembg) (4.23.0)\n",
            "Requirement already satisfied: numpy in c:\\users\\siddhit\\appdata\\local\\programs\\python\\python312\\lib\\site-packages (from rembg) (2.0.2)\n",
            "Requirement already satisfied: opencv-python-headless in c:\\users\\siddhit\\appdata\\local\\programs\\python\\python312\\lib\\site-packages (from rembg) (4.10.0.84)\n",
            "Requirement already satisfied: pillow in c:\\users\\siddhit\\appdata\\local\\programs\\python\\python312\\lib\\site-packages (from rembg) (11.0.0)\n",
            "Requirement already satisfied: pooch in c:\\users\\siddhit\\appdata\\local\\programs\\python\\python312\\lib\\site-packages (from rembg) (1.8.2)\n",
            "Requirement already satisfied: pymatting in c:\\users\\siddhit\\appdata\\local\\programs\\python\\python312\\lib\\site-packages (from rembg) (1.1.13)\n",
            "Requirement already satisfied: scikit-image in c:\\users\\siddhit\\appdata\\local\\programs\\python\\python312\\lib\\site-packages (from rembg) (0.25.0)\n",
            "Requirement already satisfied: scipy in c:\\users\\siddhit\\appdata\\local\\programs\\python\\python312\\lib\\site-packages (from rembg) (1.14.1)\n",
            "Requirement already satisfied: tqdm in c:\\users\\siddhit\\appdata\\local\\programs\\python\\python312\\lib\\site-packages (from rembg) (4.67.1)\n",
            "Requirement already satisfied: attrs>=22.2.0 in c:\\users\\siddhit\\appdata\\local\\programs\\python\\python312\\lib\\site-packages (from jsonschema->rembg) (24.3.0)\n",
            "Requirement already satisfied: jsonschema-specifications>=2023.03.6 in c:\\users\\siddhit\\appdata\\local\\programs\\python\\python312\\lib\\site-packages (from jsonschema->rembg) (2024.10.1)\n",
            "Requirement already satisfied: referencing>=0.28.4 in c:\\users\\siddhit\\appdata\\local\\programs\\python\\python312\\lib\\site-packages (from jsonschema->rembg) (0.35.1)\n",
            "Requirement already satisfied: rpds-py>=0.7.1 in c:\\users\\siddhit\\appdata\\local\\programs\\python\\python312\\lib\\site-packages (from jsonschema->rembg) (0.22.3)\n",
            "Requirement already satisfied: platformdirs>=2.5.0 in c:\\users\\siddhit\\appdata\\roaming\\python\\python312\\site-packages (from pooch->rembg) (4.3.6)\n",
            "Requirement already satisfied: packaging>=20.0 in c:\\users\\siddhit\\appdata\\roaming\\python\\python312\\site-packages (from pooch->rembg) (24.2)\n",
            "Requirement already satisfied: requests>=2.19.0 in c:\\users\\siddhit\\appdata\\local\\programs\\python\\python312\\lib\\site-packages (from pooch->rembg) (2.32.3)\n",
            "Requirement already satisfied: numba!=0.49.0 in c:\\users\\siddhit\\appdata\\local\\programs\\python\\python312\\lib\\site-packages (from pymatting->rembg) (0.60.0)\n",
            "Requirement already satisfied: networkx>=3.0 in c:\\users\\siddhit\\appdata\\local\\programs\\python\\python312\\lib\\site-packages (from scikit-image->rembg) (3.4.2)\n",
            "Requirement already satisfied: imageio!=2.35.0,>=2.33 in c:\\users\\siddhit\\appdata\\local\\programs\\python\\python312\\lib\\site-packages (from scikit-image->rembg) (2.36.1)\n",
            "Requirement already satisfied: tifffile>=2022.8.12 in c:\\users\\siddhit\\appdata\\local\\programs\\python\\python312\\lib\\site-packages (from scikit-image->rembg) (2024.12.12)\n",
            "Requirement already satisfied: lazy-loader>=0.4 in c:\\users\\siddhit\\appdata\\local\\programs\\python\\python312\\lib\\site-packages (from scikit-image->rembg) (0.4)\n",
            "Requirement already satisfied: colorama in c:\\users\\siddhit\\appdata\\roaming\\python\\python312\\site-packages (from tqdm->rembg) (0.4.6)\n",
            "Requirement already satisfied: llvmlite<0.44,>=0.43.0dev0 in c:\\users\\siddhit\\appdata\\local\\programs\\python\\python312\\lib\\site-packages (from numba!=0.49.0->pymatting->rembg) (0.43.0)\n",
            "Requirement already satisfied: charset-normalizer<4,>=2 in c:\\users\\siddhit\\appdata\\local\\programs\\python\\python312\\lib\\site-packages (from requests>=2.19.0->pooch->rembg) (3.4.0)\n",
            "Requirement already satisfied: idna<4,>=2.5 in c:\\users\\siddhit\\appdata\\local\\programs\\python\\python312\\lib\\site-packages (from requests>=2.19.0->pooch->rembg) (3.10)\n",
            "Requirement already satisfied: urllib3<3,>=1.21.1 in c:\\users\\siddhit\\appdata\\local\\programs\\python\\python312\\lib\\site-packages (from requests>=2.19.0->pooch->rembg) (2.2.3)\n",
            "Requirement already satisfied: certifi>=2017.4.17 in c:\\users\\siddhit\\appdata\\local\\programs\\python\\python312\\lib\\site-packages (from requests>=2.19.0->pooch->rembg) (2024.12.14)\n"
          ]
        },
        {
          "name": "stderr",
          "output_type": "stream",
          "text": [
            "\n",
            "[notice] A new release of pip is available: 24.0 -> 25.0\n",
            "[notice] To update, run: python.exe -m pip install --upgrade pip\n"
          ]
        }
      ],
      "source": [
        "# install the required library\n",
        "\n",
        "!pip install rembg"
      ]
    },
    {
      "cell_type": "code",
      "execution_count": 2,
      "metadata": {
        "colab": {
          "base_uri": "https://localhost:8080/"
        },
        "id": "o1YrDKZn8UsF",
        "outputId": "a2a055a9-554f-4541-9188-bb28572a210c"
      },
      "outputs": [
        {
          "name": "stdout",
          "output_type": "stream",
          "text": [
            "Requirement already satisfied: pillow in c:\\users\\siddhit\\appdata\\local\\programs\\python\\python312\\lib\\site-packages (11.0.0)"
          ]
        },
        {
          "name": "stderr",
          "output_type": "stream",
          "text": [
            "\n",
            "[notice] A new release of pip is available: 24.0 -> 25.0\n",
            "[notice] To update, run: python.exe -m pip install --upgrade pip\n"
          ]
        },
        {
          "name": "stdout",
          "output_type": "stream",
          "text": [
            "\n",
            "Collecting pillow\n",
            "  Downloading pillow-11.1.0-cp312-cp312-win_amd64.whl.metadata (9.3 kB)\n",
            "Downloading pillow-11.1.0-cp312-cp312-win_amd64.whl (2.6 MB)\n",
            "   ---------------------------------------- 0.0/2.6 MB ? eta -:--:--\n",
            "   - -------------------------------------- 0.1/2.6 MB 2.2 MB/s eta 0:00:02\n",
            "   ------- -------------------------------- 0.5/2.6 MB 5.1 MB/s eta 0:00:01\n",
            "   ----------------- ---------------------- 1.1/2.6 MB 8.1 MB/s eta 0:00:01\n",
            "   --------------------------------- ------ 2.2/2.6 MB 12.8 MB/s eta 0:00:01\n",
            "   ---------------------------------------  2.6/2.6 MB 12.0 MB/s eta 0:00:01\n",
            "   ---------------------------------------- 2.6/2.6 MB 10.5 MB/s eta 0:00:00\n",
            "Installing collected packages: pillow\n",
            "  Attempting uninstall: pillow\n",
            "    Found existing installation: pillow 11.0.0\n",
            "    Uninstalling pillow-11.0.0:\n",
            "      Successfully uninstalled pillow-11.0.0\n",
            "Successfully installed pillow-11.1.0\n"
          ]
        }
      ],
      "source": [
        "!pip install -U pillow"
      ]
    },
    {
      "cell_type": "code",
      "execution_count": 3,
      "metadata": {
        "colab": {
          "base_uri": "https://localhost:8080/"
        },
        "id": "ew9yLRFt9AeM",
        "outputId": "4375ba02-0cf6-4513-bfc4-ff6c285848f6"
      },
      "outputs": [
        {
          "name": "stdout",
          "output_type": "stream",
          "text": [
            "Requirement already satisfied: onnxruntime in c:\\users\\siddhit\\appdata\\local\\programs\\python\\python312\\lib\\site-packages (1.20.1)\n",
            "Requirement already satisfied: coloredlogs in c:\\users\\siddhit\\appdata\\local\\programs\\python\\python312\\lib\\site-packages (from onnxruntime) (15.0.1)\n",
            "Requirement already satisfied: flatbuffers in c:\\users\\siddhit\\appdata\\local\\programs\\python\\python312\\lib\\site-packages (from onnxruntime) (24.3.25)\n",
            "Requirement already satisfied: numpy>=1.21.6 in c:\\users\\siddhit\\appdata\\local\\programs\\python\\python312\\lib\\site-packages (from onnxruntime) (2.0.2)\n",
            "Requirement already satisfied: packaging in c:\\users\\siddhit\\appdata\\roaming\\python\\python312\\site-packages (from onnxruntime) (24.2)\n",
            "Requirement already satisfied: protobuf in c:\\users\\siddhit\\appdata\\local\\programs\\python\\python312\\lib\\site-packages (from onnxruntime) (5.29.2)\n",
            "Requirement already satisfied: sympy in c:\\users\\siddhit\\appdata\\local\\programs\\python\\python312\\lib\\site-packages (from onnxruntime) (1.13.3)\n",
            "Requirement already satisfied: humanfriendly>=9.1 in c:\\users\\siddhit\\appdata\\local\\programs\\python\\python312\\lib\\site-packages (from coloredlogs->onnxruntime) (10.0)\n",
            "Requirement already satisfied: mpmath<1.4,>=1.1.0 in c:\\users\\siddhit\\appdata\\local\\programs\\python\\python312\\lib\\site-packages (from sympy->onnxruntime) (1.3.0)\n",
            "Requirement already satisfied: pyreadline3 in c:\\users\\siddhit\\appdata\\local\\programs\\python\\python312\\lib\\site-packages (from humanfriendly>=9.1->coloredlogs->onnxruntime) (3.5.4)\n"
          ]
        },
        {
          "name": "stderr",
          "output_type": "stream",
          "text": [
            "\n",
            "[notice] A new release of pip is available: 24.0 -> 25.0\n",
            "[notice] To update, run: python.exe -m pip install --upgrade pip\n"
          ]
        }
      ],
      "source": [
        "!pip install onnxruntime"
      ]
    },
    {
      "cell_type": "code",
      "execution_count": 4,
      "metadata": {
        "id": "FIqtmDwM8e7w"
      },
      "outputs": [],
      "source": [
        "from rembg import remove\n",
        "import requests\n",
        "from PIL import Image\n",
        "from io import BytesIO\n",
        "import os"
      ]
    },
    {
      "cell_type": "code",
      "execution_count": 5,
      "metadata": {
        "id": "L2EuWkdO8h-u"
      },
      "outputs": [],
      "source": [
        "os.makedirs('original', exist_ok=True)\n",
        "os.makedirs('masked', exist_ok=True)"
      ]
    },
    {
      "cell_type": "code",
      "execution_count": 26,
      "metadata": {
        "colab": {
          "base_uri": "https://localhost:8080/",
          "height": 36
        },
        "id": "W2kfpgR8-1Zx",
        "outputId": "b5e68781-3f97-4395-91fd-b0531ad64cda"
      },
      "outputs": [],
      "source": [
        "img_url= 'https://tinyjpg.com/images/social/website.jpg';\n",
        "img_name = img_url.split('/')[-1]"
      ]
    },
    {
      "cell_type": "code",
      "execution_count": 27,
      "metadata": {
        "id": "zGjWaCq9_BYp"
      },
      "outputs": [],
      "source": [
        "img = Image.open(BytesIO(requests.get(img_url).content))\n",
        "img.save('original/'+img_name, format='jpeg')"
      ]
    },
    {
      "cell_type": "code",
      "execution_count": 37,
      "metadata": {},
      "outputs": [],
      "source": [
        "img_url2 = 'person.jpg'\n",
        "img_name2 = img_url2\n",
        "img2 = Image.open(img_url2)\n",
        "img2.save('original/'+img_name2, format='jpeg')"
      ]
    },
    {
      "cell_type": "code",
      "execution_count": 38,
      "metadata": {
        "colab": {
          "base_uri": "https://localhost:8080/",
          "height": 36
        },
        "id": "oJMmbSEDBK2p",
        "outputId": "45350036-0067-4f5a-e4ea-57384e53c77d"
      },
      "outputs": [
        {
          "data": {
            "text/plain": [
              "'masked/person.jpg'"
            ]
          },
          "execution_count": 38,
          "metadata": {},
          "output_type": "execute_result"
        }
      ],
      "source": [
        "output_path = 'masked/'+img_name\n",
        "output_path\n",
        "output_path2 = 'masked/'+img_name2\n",
        "output_path2 "
      ]
    },
    {
      "cell_type": "code",
      "execution_count": 41,
      "metadata": {
        "id": "F8iN4TrnBuHW"
      },
      "outputs": [],
      "source": [
        "with open(output_path, 'wb') as f:\n",
        "    input = open('original/'+img_name, 'rb').read()\n",
        "    subject = remove(input)\n",
        "    f.write(subject)\n",
        "\n",
        "with open(output_path2, 'wb') as f:\n",
        "    input = open('original/'+img_name2, 'rb').read()\n",
        "    subject = remove(input, alpha_matting_erode_size=True)\n",
        "    f.write(subject)"
      ]
    },
    {
      "cell_type": "code",
      "execution_count": 43,
      "metadata": {},
      "outputs": [],
      "source": [
        "background_img = 'https://static.vecteezy.com/system/resources/previews/006/026/259/non_2x/tranquil-summer-vacation-holiday-landscape-tropical-island-sunset-beach-palms-shore-calm-sea-sand-exotic-nature-scenic-inspirational-and-peaceful-seascape-reflection-amazing-sky-sunset-photo.jpg'\n",
        "background_img = Image.open(BytesIO(requests.get(background_img).content)) "
      ]
    },
    {
      "cell_type": "code",
      "execution_count": 48,
      "metadata": {},
      "outputs": [],
      "source": [
        "background_img = background_img.resize((img.width, img.height))\n",
        "\n",
        "foreground_img = Image.open(output_path2)\n",
        "background_img.paste(foreground_img, (0, 0), foreground_img)\n",
        "background_img.save('masked/second.jpg', format='jpeg')"
      ]
    },
    {
      "cell_type": "code",
      "execution_count": null,
      "metadata": {},
      "outputs": [],
      "source": []
    }
  ],
  "metadata": {
    "colab": {
      "provenance": []
    },
    "kernelspec": {
      "display_name": "Python 3",
      "name": "python3"
    },
    "language_info": {
      "codemirror_mode": {
        "name": "ipython",
        "version": 3
      },
      "file_extension": ".py",
      "mimetype": "text/x-python",
      "name": "python",
      "nbconvert_exporter": "python",
      "pygments_lexer": "ipython3",
      "version": "3.12.4"
    }
  },
  "nbformat": 4,
  "nbformat_minor": 0
}
